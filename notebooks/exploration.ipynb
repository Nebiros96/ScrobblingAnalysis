{
 "cells": [
  {
   "cell_type": "code",
   "execution_count": 4,
   "id": "4c952618",
   "metadata": {},
   "outputs": [],
   "source": [
    "import sys\n",
    "import os\n",
    "\n",
    "# Agrega la carpeta raíz del proyecto al path\n",
    "sys.path.append(os.path.abspath(os.path.join(os.getcwd(), \"..\")))\n"
   ]
  },
  {
   "cell_type": "markdown",
   "id": "1161ae9d",
   "metadata": {},
   "source": [
    "### Exploración de datos con SQL Alchemy"
   ]
  },
  {
   "cell_type": "code",
   "execution_count": 18,
   "id": "94108731",
   "metadata": {},
   "outputs": [],
   "source": [
    "import pandas as pd\n",
    "from core.connection import get_engine\n",
    "from core.queries import QUERIES\n",
    "from core.connection_notebook import get_engine_notebook\n",
    "\n",
    "%matplotlib inline\n",
    "import matplotlib.pyplot as plt\n"
   ]
  },
  {
   "cell_type": "code",
   "execution_count": null,
   "id": "5c437535",
   "metadata": {},
   "outputs": [],
   "source": [
    "engine = get_engine_notebook()"
   ]
  },
  {
   "cell_type": "markdown",
   "id": "e959925c",
   "metadata": {},
   "source": [
    "### Consultas"
   ]
  },
  {
   "cell_type": "code",
   "execution_count": 14,
   "id": "bb6ab798",
   "metadata": {},
   "outputs": [
    {
     "data": {
      "text/html": [
       "<div>\n",
       "<style scoped>\n",
       "    .dataframe tbody tr th:only-of-type {\n",
       "        vertical-align: middle;\n",
       "    }\n",
       "\n",
       "    .dataframe tbody tr th {\n",
       "        vertical-align: top;\n",
       "    }\n",
       "\n",
       "    .dataframe thead th {\n",
       "        text-align: right;\n",
       "    }\n",
       "</style>\n",
       "<table border=\"1\" class=\"dataframe\">\n",
       "  <thead>\n",
       "    <tr style=\"text-align: right;\">\n",
       "      <th></th>\n",
       "      <th>Year_Month</th>\n",
       "      <th>Artist</th>\n",
       "      <th>Scrobblings</th>\n",
       "      <th>TotalScrobblings</th>\n",
       "      <th>Percentage_total</th>\n",
       "    </tr>\n",
       "  </thead>\n",
       "  <tbody>\n",
       "    <tr>\n",
       "      <th>0</th>\n",
       "      <td>2022-04</td>\n",
       "      <td>Last Days of Humanity</td>\n",
       "      <td>136</td>\n",
       "      <td>570</td>\n",
       "      <td>23.86</td>\n",
       "    </tr>\n",
       "    <tr>\n",
       "      <th>1</th>\n",
       "      <td>2016-07</td>\n",
       "      <td>1389</td>\n",
       "      <td>53</td>\n",
       "      <td>308</td>\n",
       "      <td>17.21</td>\n",
       "    </tr>\n",
       "    <tr>\n",
       "      <th>2</th>\n",
       "      <td>2021-06</td>\n",
       "      <td>Judas Iscariot</td>\n",
       "      <td>84</td>\n",
       "      <td>525</td>\n",
       "      <td>16.00</td>\n",
       "    </tr>\n",
       "    <tr>\n",
       "      <th>3</th>\n",
       "      <td>2016-02</td>\n",
       "      <td>Jarnvidr</td>\n",
       "      <td>93</td>\n",
       "      <td>594</td>\n",
       "      <td>15.66</td>\n",
       "    </tr>\n",
       "    <tr>\n",
       "      <th>4</th>\n",
       "      <td>2021-05</td>\n",
       "      <td>Judas Iscariot</td>\n",
       "      <td>87</td>\n",
       "      <td>588</td>\n",
       "      <td>14.80</td>\n",
       "    </tr>\n",
       "  </tbody>\n",
       "</table>\n",
       "</div>"
      ],
      "text/plain": [
       "  Year_Month                 Artist  Scrobblings  TotalScrobblings  \\\n",
       "0    2022-04  Last Days of Humanity          136               570   \n",
       "1    2016-07                   1389           53               308   \n",
       "2    2021-06         Judas Iscariot           84               525   \n",
       "3    2016-02               Jarnvidr           93               594   \n",
       "4    2021-05         Judas Iscariot           87               588   \n",
       "\n",
       "   Percentage_total  \n",
       "0             23.86  \n",
       "1             17.21  \n",
       "2             16.00  \n",
       "3             15.66  \n",
       "4             14.80  "
      ]
     },
     "execution_count": 14,
     "metadata": {},
     "output_type": "execute_result"
    }
   ],
   "source": [
    "query = \"\"\"\n",
    "WITH TotalCounts AS (\n",
    "    SELECT \n",
    "        Year_Month, \n",
    "        COUNT(*) AS TotalScrobblings\n",
    "    FROM Clean_LastfmData \n",
    "    GROUP BY Year_Month\n",
    "),\n",
    "RankedArtists AS (\n",
    "    SELECT \n",
    "        Year_Month,\n",
    "        Artist, \n",
    "        COUNT(*) AS Scrobblings,\n",
    "        ROW_NUMBER() OVER (PARTITION BY Year_Month ORDER BY COUNT(*) DESC) AS RowNum\n",
    "    FROM Clean_LastfmData\n",
    "    GROUP BY Year_Month, Artist\n",
    ")\n",
    "SELECT \n",
    "    R.Year_Month,\n",
    "    R.Artist,\n",
    "    R.Scrobblings,\n",
    "    T.TotalScrobblings,\n",
    "\tROUND(CAST(R.Scrobblings AS FLOAT)/(T.TotalScrobblings) * 100 ,2) AS Percentage_total\n",
    "FROM RankedArtists AS R\n",
    "JOIN TotalCounts AS T ON R.Year_Month = T.Year_Month\n",
    "WHERE R.RowNum = 1\n",
    "ORDER BY Percentage_total DESC;\n",
    "\"\"\"\n",
    "\n",
    "# Ejecutar y cargar resultados\n",
    "df = pd.read_sql(query, engine)\n",
    "df.head()"
   ]
  },
  {
   "cell_type": "markdown",
   "id": "a410a0bd",
   "metadata": {},
   "source": [
    "### Plots"
   ]
  }
 ],
 "metadata": {
  "kernelspec": {
   "display_name": "streamlit_env",
   "language": "python",
   "name": "python3"
  },
  "language_info": {
   "codemirror_mode": {
    "name": "ipython",
    "version": 3
   },
   "file_extension": ".py",
   "mimetype": "text/x-python",
   "name": "python",
   "nbconvert_exporter": "python",
   "pygments_lexer": "ipython3",
   "version": "3.11.13"
  }
 },
 "nbformat": 4,
 "nbformat_minor": 5
}
